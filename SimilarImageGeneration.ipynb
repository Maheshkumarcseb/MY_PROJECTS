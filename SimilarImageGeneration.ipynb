{
  "nbformat": 4,
  "nbformat_minor": 0,
  "metadata": {
    "colab": {
      "provenance": [],
      "gpuType": "T4",
      "authorship_tag": "ABX9TyPg9b3a4/jwHN7zzVBpAog9",
      "include_colab_link": true
    },
    "kernelspec": {
      "name": "python3",
      "display_name": "Python 3"
    },
    "language_info": {
      "name": "python"
    },
    "accelerator": "GPU"
  },
  "cells": [
    {
      "cell_type": "markdown",
      "metadata": {
        "id": "view-in-github",
        "colab_type": "text"
      },
      "source": [
        "<a href=\"https://colab.research.google.com/github/Maheshkumarcseb/MY_PROJECTS/blob/main/SimilarImageGeneration.ipynb\" target=\"_parent\"><img src=\"https://colab.research.google.com/assets/colab-badge.svg\" alt=\"Open In Colab\"/></a>"
      ]
    },
    {
      "cell_type": "code",
      "source": [
        "import gradio as gr\n",
        "import requests\n",
        "import torch\n",
        "import clip\n",
        "from PIL import Image\n",
        "from io import BytesIO\n",
        "\n",
        "# ✅ Load CLIP Model (Vision-Language Model)\n",
        "device = \"cuda\" if torch.cuda.is_available() else \"cpu\"\n",
        "model, preprocess = clip.load(\"ViT-B/32\", device=device)\n",
        "\n",
        "# ✅ Google Custom Search API Details (Replace with Your Own API Key & CSE ID)\n",
        "GOOGLE_API_KEY = \"your_api_key\"\n",
        "GOOGLE_CSE_ID = \"your_cse_id\"\n",
        "\n",
        "# ✅ Function to Extract CLIP Image Features\n",
        "def get_image_embedding(image):\n",
        "    \"\"\"Extract CLIP embedding from an image.\"\"\"\n",
        "    image = preprocess(image).unsqueeze(0).to(device)\n",
        "    with torch.no_grad():\n",
        "        embedding = model.encode_image(image)\n",
        "    return embedding\n",
        "\n",
        "# ✅ Get Best Matching Text for an Image\n",
        "def get_best_text_description(image_embedding):\n",
        "    \"\"\"Find the most relevant text description using CLIP.\"\"\"\n",
        "    possible_labels = [\n",
        "        \"shoes\", \"sneakers\", \"sandals\", \"boots\", \"heels\",\n",
        "        \"bags\", \"handbags\", \"backpacks\", \"wallets\",\n",
        "        \"t-shirts\", \"jeans\", \"jackets\", \"sweaters\", \"shorts\",\n",
        "        \"hats\", \"caps\", \"gloves\", \"scarves\"\n",
        "    ]\n",
        "\n",
        "    text_inputs = torch.cat([clip.tokenize(label) for label in possible_labels]).to(device)\n",
        "\n",
        "    with torch.no_grad():\n",
        "        text_embeddings = model.encode_text(text_inputs)\n",
        "\n",
        "    similarities = (image_embedding @ text_embeddings.T).squeeze(0)\n",
        "    best_match_idx = similarities.argmax().item()\n",
        "    return possible_labels[best_match_idx]\n",
        "\n",
        "# ✅ Fetch Images from Google Custom Search\n",
        "def fetch_google_images(query):\n",
        "    \"\"\"Fetch similar images from Google Custom Search API.\"\"\"\n",
        "    url = f\"https://www.googleapis.com/customsearch/v1?q={query}&searchType=image&key={GOOGLE_API_KEY}&cx={GOOGLE_CSE_ID}\"\n",
        "    response = requests.get(url)\n",
        "    if response.status_code == 200:\n",
        "        data = response.json()\n",
        "        return [item[\"link\"] for item in data.get(\"items\", [])]\n",
        "    return []\n",
        "\n",
        "# ✅ Find Similar Images\n",
        "def find_similar_images(uploaded_image):\n",
        "    \"\"\"Process image, get description, and fetch similar images.\"\"\"\n",
        "    image = Image.open(uploaded_image).convert(\"RGB\")\n",
        "    image_embedding = get_image_embedding(image)\n",
        "\n",
        "    # Generate the best matching text label\n",
        "    query_text = get_best_text_description(image_embedding)\n",
        "\n",
        "    # Fetch images based on the detected category\n",
        "    similar_images = fetch_google_images(query_text)\n",
        "\n",
        "    return similar_images if similar_images else [\"No similar images found.\"]\n",
        "\n",
        "# ✅ Gradio UI\n",
        "iface = gr.Interface(\n",
        "    fn=find_similar_images,\n",
        "    inputs=gr.Image(type=\"filepath\"),\n",
        "    outputs=gr.Gallery(label=\"Similar Images\"),\n",
        "    title=\"Visual Search with VLM (CLIP)\",\n",
        "    description=\"Upload an image, and the system will find visually similar images from the web.\",\n",
        ")\n",
        "\n",
        "iface.launch()\n"
      ],
      "metadata": {
        "colab": {
          "base_uri": "https://localhost:8080/",
          "height": 645
        },
        "id": "ufGoRtTPHFpU",
        "outputId": "7e377e8a-b81c-4a02-801e-108267db4605"
      },
      "execution_count": 3,
      "outputs": [
        {
          "output_type": "stream",
          "name": "stdout",
          "text": [
            "Running Gradio in a Colab notebook requires sharing enabled. Automatically setting `share=True` (you can turn this off by setting `share=False` in `launch()` explicitly).\n",
            "\n",
            "Colab notebook detected. To show errors in colab notebook, set debug=True in launch()\n",
            "* Running on public URL: https://f5e5b7648dc45cda7e.gradio.live\n",
            "\n",
            "This share link expires in 72 hours. For free permanent hosting and GPU upgrades, run `gradio deploy` from the terminal in the working directory to deploy to Hugging Face Spaces (https://huggingface.co/spaces)\n"
          ]
        },
        {
          "output_type": "display_data",
          "data": {
            "text/plain": [
              "<IPython.core.display.HTML object>"
            ],
            "text/html": [
              "<div><iframe src=\"https://f5e5b7648dc45cda7e.gradio.live\" width=\"100%\" height=\"500\" allow=\"autoplay; camera; microphone; clipboard-read; clipboard-write;\" frameborder=\"0\" allowfullscreen></iframe></div>"
            ]
          },
          "metadata": {}
        },
        {
          "output_type": "execute_result",
          "data": {
            "text/plain": []
          },
          "metadata": {},
          "execution_count": 3
        }
      ]
    },
    {
      "cell_type": "code",
      "source": [],
      "metadata": {
        "id": "jP4H4QYeLOvY"
      },
      "execution_count": null,
      "outputs": []
    }
  ]
}